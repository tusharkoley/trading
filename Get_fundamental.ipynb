{
 "cells": [
  {
   "cell_type": "code",
   "execution_count": 1,
   "id": "7fdda219",
   "metadata": {},
   "outputs": [],
   "source": [
    "import pandas as pd\n",
    "import numpy as np"
   ]
  },
  {
   "cell_type": "code",
   "execution_count": 9,
   "id": "405aeb75",
   "metadata": {},
   "outputs": [],
   "source": [
    "total_cost = 15000*15000"
   ]
  },
  {
   "cell_type": "code",
   "execution_count": 11,
   "id": "b10a40d3",
   "metadata": {},
   "outputs": [
    {
     "data": {
      "text/plain": [
       "225000000"
      ]
     },
     "execution_count": 11,
     "metadata": {},
     "output_type": "execute_result"
    }
   ],
   "source": [
    "total_cost"
   ]
  },
  {
   "cell_type": "code",
   "execution_count": 14,
   "id": "603640da",
   "metadata": {},
   "outputs": [],
   "source": [
    "emi_per_year = (total_cost*0.09)"
   ]
  },
  {
   "cell_type": "code",
   "execution_count": 16,
   "id": "39b05c0c",
   "metadata": {},
   "outputs": [],
   "source": [
    "ocupancy = 0.5"
   ]
  },
  {
   "cell_type": "code",
   "execution_count": 18,
   "id": "8e7889a7",
   "metadata": {},
   "outputs": [],
   "source": [
    "yearly_income = 50*1500*365*ocupancy"
   ]
  },
  {
   "cell_type": "code",
   "execution_count": 19,
   "id": "1881992b",
   "metadata": {},
   "outputs": [
    {
     "data": {
      "text/plain": [
       "-6562500.0"
      ]
     },
     "execution_count": 19,
     "metadata": {},
     "output_type": "execute_result"
    }
   ],
   "source": [
    "yearly_income - emi_per_year"
   ]
  },
  {
   "cell_type": "code",
   "execution_count": 20,
   "id": "42077119",
   "metadata": {},
   "outputs": [
    {
     "data": {
      "text/plain": [
       "13687500.0"
      ]
     },
     "execution_count": 20,
     "metadata": {},
     "output_type": "execute_result"
    }
   ],
   "source": [
    "yearly_income"
   ]
  },
  {
   "cell_type": "code",
   "execution_count": 21,
   "id": "25858d1f",
   "metadata": {},
   "outputs": [
    {
     "data": {
      "text/plain": [
       "20250000.0"
      ]
     },
     "execution_count": 21,
     "metadata": {},
     "output_type": "execute_result"
    }
   ],
   "source": [
    "emi_per_year"
   ]
  },
  {
   "cell_type": "code",
   "execution_count": 27,
   "id": "e45905cf",
   "metadata": {},
   "outputs": [
    {
     "ename": "TypeError",
     "evalue": "unsupported operand type(s) for /: 'tuple' and 'float'",
     "output_type": "error",
     "traceback": [
      "\u001b[0;31m---------------------------------------------------------------------------\u001b[0m",
      "\u001b[0;31mTypeError\u001b[0m                                 Traceback (most recent call last)",
      "Cell \u001b[0;32mIn[27], line 1\u001b[0m\n\u001b[0;32m----> 1\u001b[0m EMI \u001b[38;5;241m=\u001b[39m (\u001b[38;5;241m45\u001b[39m,\u001b[38;5;241m000\u001b[39m,\u001b[38;5;241m000\u001b[39m \u001b[38;5;241m*\u001b[39m \u001b[38;5;241m0.0075\u001b[39m \u001b[38;5;241m*\u001b[39m (\u001b[38;5;241m1\u001b[39m \u001b[38;5;241m+\u001b[39m \u001b[38;5;241m0.0075\u001b[39m)\u001b[38;5;241m*\u001b[39m\u001b[38;5;241m*\u001b[39m\u001b[38;5;241m180\u001b[39m)\u001b[38;5;241m/\u001b[39m( (\u001b[38;5;241m1\u001b[39m \u001b[38;5;241m+\u001b[39m \u001b[38;5;241m0.0075\u001b[39m)\u001b[38;5;241m*\u001b[39m\u001b[38;5;241m*\u001b[39m\u001b[38;5;241m180\u001b[39m \u001b[38;5;241m-\u001b[39m \u001b[38;5;241m1\u001b[39m)\n",
      "\u001b[0;31mTypeError\u001b[0m: unsupported operand type(s) for /: 'tuple' and 'float'"
     ]
    }
   ],
   "source": [
    "EMI = (45,000,000 * 0.0075 * (1 + 0.0075)**180)/( (1 + 0.0075)**180 - 1)"
   ]
  },
  {
   "cell_type": "code",
   "execution_count": null,
   "id": "b0a4ae14",
   "metadata": {},
   "outputs": [],
   "source": []
  }
 ],
 "metadata": {
  "kernelspec": {
   "display_name": "Python 3 (ipykernel)",
   "language": "python",
   "name": "python3"
  },
  "language_info": {
   "codemirror_mode": {
    "name": "ipython",
    "version": 3
   },
   "file_extension": ".py",
   "mimetype": "text/x-python",
   "name": "python",
   "nbconvert_exporter": "python",
   "pygments_lexer": "ipython3",
   "version": "3.11.5"
  }
 },
 "nbformat": 4,
 "nbformat_minor": 5
}
